{
 "cells": [
  {
   "cell_type": "markdown",
   "id": "4620ef99-15ab-4ff4-89f6-9553c9d33e75",
   "metadata": {},
   "source": [
    "# CICE Loaders"
   ]
  },
  {
   "cell_type": "raw",
   "id": "7b936ad6-b5fb-4837-bf0b-2efd9daac3c7",
   "metadata": {
    "execution": {
     "iopub.execute_input": "2023-10-16T05:59:41.031963Z",
     "iopub.status.busy": "2023-10-16T05:59:41.031513Z",
     "iopub.status.idle": "2023-10-16T05:59:41.037298Z",
     "shell.execute_reply": "2023-10-16T05:59:41.036506Z",
     "shell.execute_reply.started": "2023-10-16T05:59:41.031946Z"
    }
   },
   "source": [
    "def open_by_name(name, vars):\n",
    "    \"\"\" Return the ds with the CICE data in VARS for this name in the intake catalog \"\"\"\n",
    "    return catalog[name].search(\n",
    "            variable=vars\n",
    "        ).to_dask(\n",
    "        xarray_open_kwargs={\n",
    "            \"decode_coords\":False\n",
    "        },\n",
    "        xarray_combine_by_coords_kwargs={\n",
    "            'compat':'override','data_vars':'minimal', 'coords':'minimal'\n",
    "        })"
   ]
  },
  {
   "cell_type": "code",
   "execution_count": null,
   "id": "89a6affd-61a4-4e3c-b66e-88c8cdbe5189",
   "metadata": {},
   "outputs": [],
   "source": []
  },
  {
   "cell_type": "code",
   "execution_count": 4,
   "id": "a45fe730-e94e-40a3-bf14-efc67adde36e",
   "metadata": {
    "execution": {
     "iopub.execute_input": "2023-10-26T22:06:13.731438Z",
     "iopub.status.busy": "2023-10-26T22:06:13.730657Z",
     "iopub.status.idle": "2023-10-26T22:06:13.745622Z",
     "shell.execute_reply": "2023-10-26T22:06:13.744751Z",
     "shell.execute_reply.started": "2023-10-26T22:06:13.731390Z"
    }
   },
   "outputs": [],
   "source": [
    "def open_by_run(run_name, vars):\n",
    "    \"\"\" Concat any ds provided for this run into one ds, and add area and geo coordinates \"\"\"\n",
    "\n",
    "    import xarray as xr\n",
    "    import cf_xarray as cfxr\n",
    "    \n",
    "    open_by_name = lambda name : catalog[name].search(\n",
    "        variable=vars\n",
    "    ).to_dask(\n",
    "        xarray_open_kwargs={\"chunks\":{'time':'auto','ni':-1,'nj':-1},\"decode_coords\":False},\n",
    "        xarray_combine_by_coords_kwargs={'compat':'override','data_vars':'minimal', 'coords':'minimal'}\n",
    "    )\n",
    "\n",
    "    #get the data for each run of this config \n",
    "    cice_ds=xr.concat([\n",
    "        open_by_name(iName) for iName in RUNS[run_name]\n",
    "    ], dim='time'\n",
    "    )\n",
    "    \n",
    "    #We also want the area field, but its not time dependent.\n",
    "    # get the path of the first file with the area field, the geolon field and the geolat field and open it\n",
    "    area_ds=xr.merge([\n",
    "        xr.open_dataset(\n",
    "            catalog[RUNS[run_name][0]].search(variable=iVar).df.path[0]\n",
    "        ).drop('time')\n",
    "    for iVar in VARS_2D])\n",
    "\n",
    "    #Label the lats and lons\n",
    "    cice_ds.coords['ni'] = area_ds['xt_ocean'].values\n",
    "    cice_ds.coords['nj'] = area_ds['yt_ocean'].values\n",
    "    \n",
    "    #Copy attributes for cf compliance\n",
    "    cice_ds.ni.attrs=area_ds.xt_ocean.attrs\n",
    "    cice_ds.nj.attrs=area_ds.yt_ocean.attrs\n",
    "    \n",
    "    cice_ds = cice_ds.rename(({'ni':'xt_ocean', 'nj':'yt_ocean'}))\n",
    "    \n",
    "    # Add the geolon, geolat, and area as extra co-ordinates fields from area_t\n",
    "    \n",
    "    cice_ds=cice_ds.assign_coords({\n",
    "        'geolat_t':area_ds.geolat_t,\n",
    "        'geolon_t':area_ds.geolon_t,\n",
    "        'area_t':area_ds.area_t\n",
    "    })\n",
    "\n",
    "    # cice_ds['area_t']=area_ds['area_t']\n",
    "\n",
    "    #cice timestamps are also misleading:\n",
    "    cice_ds['time'] = cice_ds.time.to_pandas() - timedelta(days = 1)\n",
    "       \n",
    "    return cice_ds"
   ]
  },
  {
   "cell_type": "code",
   "execution_count": null,
   "id": "a29e7134-7327-46e7-b7d0-72d75fe6c772",
   "metadata": {},
   "outputs": [],
   "source": []
  }
 ],
 "metadata": {
  "kernelspec": {
   "display_name": "Python [conda env:analysis3-22.04]",
   "language": "python",
   "name": "conda-env-analysis3-22.04-py"
  },
  "language_info": {
   "codemirror_mode": {
    "name": "ipython",
    "version": 3
   },
   "file_extension": ".py",
   "mimetype": "text/x-python",
   "name": "python",
   "nbconvert_exporter": "python",
   "pygments_lexer": "ipython3",
   "version": "3.9.13"
  }
 },
 "nbformat": 4,
 "nbformat_minor": 5
}
